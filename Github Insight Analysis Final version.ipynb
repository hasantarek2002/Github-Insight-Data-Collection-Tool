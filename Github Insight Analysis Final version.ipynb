{
 "cells": [
  {
   "cell_type": "code",
   "execution_count": null,
   "metadata": {},
   "outputs": [],
   "source": [
    "# Get Insight data by only replacing the *owner and project name *with appropriate *relative path *of the cloned repository from github"
   ]
  },
  {
   "cell_type": "code",
   "execution_count": null,
   "metadata": {},
   "outputs": [],
   "source": [
    "import pandas as pd\n",
    "from typing import Optional\n",
    "from github import Github\n",
    "from github.Repository import Repository\n",
    "import os\n",
    "from subprocess import check_output\n",
    "import subprocess\n",
    "import time"
   ]
  },
  {
   "cell_type": "code",
   "execution_count": null,
   "metadata": {},
   "outputs": [],
   "source": [
    "owner = \"facebook\"\n",
    "project = \"react\""
   ]
  },
  {
   "cell_type": "code",
   "execution_count": null,
   "metadata": {
    "scrolled": true
   },
   "outputs": [],
   "source": [
    "print(\"Current directory \",os.getcwd())"
   ]
  },
  {
   "cell_type": "code",
   "execution_count": null,
   "metadata": {},
   "outputs": [],
   "source": [
    "dir = \"C:/Users/HASAN/Desktop/react_vue_insight_analysis/\"+ project\n",
    "isdir = os.path.isdir(dir)\n",
    "if isdir:\n",
    "    print('Repository Already cloned in this directory')\n",
    "else:\n",
    "    print(\"Cloning \"+ project + \" repository...\")\n",
    "    clone_command = \"git clone https://github.com/\"+ owner + \"/\" + project + \".git\"\n",
    "    tmp = check_output(clone_command, shell=True).decode()\n",
    "    print(tmp)\n",
    "    print(\"done\")"
   ]
  },
  {
   "cell_type": "code",
   "execution_count": null,
   "metadata": {},
   "outputs": [],
   "source": [
    "os.chdir(dir)\n",
    "print(\"Current directory \",os.getcwd())"
   ]
  },
  {
   "cell_type": "code",
   "execution_count": null,
   "metadata": {},
   "outputs": [],
   "source": [
    "labels = ['Base', 'head', 'files_changed', 'addition', 'deletion', 'Changed_lines', 'total_commit', 'total_contributor']\n",
    "labels_for_author_commit = ['Base', 'head', 'Author_name', 'commit_count']"
   ]
  },
  {
   "cell_type": "code",
   "execution_count": null,
   "metadata": {
    "executionInfo": {
     "elapsed": 2133,
     "status": "ok",
     "timestamp": 1611465112378,
     "user": {
      "displayName": "Toukir Ahammed",
      "photoUrl": "https://lh3.googleusercontent.com/a-/AOh14GgbzCBQbF73acvnRsQ_rWiPL00rkzt_owXe-1WC=s64",
      "userId": "13395076180494669364"
     },
     "user_tz": -360
    },
    "id": "QOYRGtv6VF7T"
   },
   "outputs": [],
   "source": [
    "csv_results = []\n",
    "csv_results_for_author_commit = []\n",
    "class GithubStatisticsGeneration(object):\n",
    "\n",
    "    def __init__(self, user_name: Optional[str] = None, password: Optional[str] = None,\n",
    "                 access_token: Optional[str] = None):\n",
    "        self._user_name: str = user_name\n",
    "        self._password: str = password\n",
    "        self._access_token: str = access_token\n",
    "\n",
    "    def get_tags(self, repository: str):\n",
    "        _cred: Github = self._authenticate_to_github(self._access_token, self._password, self._user_name)\n",
    "        _repo: Repository = _cred.get_repo(repository)\n",
    "        re = _repo.get_releases()\n",
    "\n",
    "        _tags = list(_repo.get_releases())\n",
    "        _tags = sorted(_tags, key=lambda x: x.created_at, reverse = True)\n",
    "        print(len(_tags))       \n",
    "#         print(_tags[0].published_at)\n",
    "        for i in range(len(_tags)- 1):\n",
    "            head = _tags[i].tag_name\n",
    "            base = _tags[i+1].tag_name\n",
    "            print(base, head)\n",
    "#             print(_tags[i].created_at)\n",
    "            try:\n",
    "                get_addition_deletion_command = \"git diff \"+ base + \"...\" + head + \" --shortstat\"\n",
    "                get_number_of_commit_command = \"git rev-list --count \" + base + \"..\" + head\n",
    "                get_number_of_contributor_command = \"git shortlog \" + base + \"..\" + head + ' -sn | find /c /v \"\"'\n",
    "\n",
    "                print(get_addition_deletion_command)\n",
    "                addition_deletion = check_output(get_addition_deletion_command, shell=True).decode()\n",
    "                addition_deletion_list = addition_deletion.split(\" \")\n",
    "                print(addition_deletion_list, len(addition_deletion_list))\n",
    "    #             print(addition_deletion_list[1], addition_deletion_list[4], addition_deletion_list[6])\n",
    "\n",
    "                print(get_number_of_commit_command)\n",
    "                commit_no = check_output(get_number_of_commit_command, shell=True).decode()\n",
    "                print(\"commit_no: \", commit_no)\n",
    "\n",
    "                print(get_number_of_contributor_command)\n",
    "                contributor_no = check_output(get_number_of_contributor_command, shell=True).decode()\n",
    "                print(\"contributor_no: \", contributor_no)\n",
    "\n",
    "                total_change = int(addition_deletion_list[4])+int(addition_deletion_list[6])\n",
    "                \n",
    "                # Get Author individual contribution information\n",
    "                get_authors_individual_commit_count_command = \"git shortlog \" + base + \"..\" + head + ' -sn'\n",
    "                print(get_authors_individual_commit_count_command)\n",
    "                authors_individual_commit = check_output(get_authors_individual_commit_count_command, shell=True).decode()\n",
    "                authors_individual_commit_list = authors_individual_commit.splitlines()\n",
    "                \n",
    "                for authors_commit in authors_individual_commit_list:\n",
    "                #     print(authors_commit)\n",
    "                    author_commit = authors_commit.split('\\t')\n",
    "                    authors_commit_count = int( author_commit[0].strip() )\n",
    "                    author_name = author_commit[1]\n",
    "                #     print(type(author_commit), author_commit, len(author_commit))\n",
    "                    print(\"authors_commit_count \", authors_commit_count, \"author_name \", author_name)\n",
    "                    \n",
    "                    csv_results_for_author_commit.append( [base, head, author_name, authors_commit_count] )\n",
    "                \n",
    "                csv_results.append([base, head, addition_deletion_list[1], addition_deletion_list[4], addition_deletion_list[6], total_change, int(commit_no), int(contributor_no) ])\n",
    "                print(\"===============================================\")\n",
    "            except:\n",
    "                print(\"Exception occured\")\n",
    "                continue   \n",
    "        print(\"done\")        \n",
    "        \n",
    "    @staticmethod\n",
    "    def _authenticate_to_github(access_token: str, password: str, user_name: str):\n",
    "        if access_token is None:\n",
    "            cred: Github = Github(user_name, password)\n",
    "        else:\n",
    "            cred: Github = Github(access_token)\n",
    "        return cred\n",
    "\n"
   ]
  },
  {
   "cell_type": "code",
   "execution_count": null,
   "metadata": {
    "scrolled": true
   },
   "outputs": [],
   "source": [
    "if __name__ == \"__main__\":\n",
    "    token = \"Provide your github access token\"\n",
    "    github = GithubStatisticsGeneration(access_token= token)\n",
    "    \n",
    "    owner_project = owner + \"/\" + project\n",
    "    github.get_tags(owner_project)\n",
    "    \n",
    "    result_df = pd.DataFrame(data=csv_results, columns = labels )\n",
    "    result_df.to_csv ('../' + project + '.csv', sep=\",\", index=None)\n",
    "    print(result_df.head(3))\n",
    "    print(\"========================================================================\\n\")\n",
    "    result_df_for_author_commit = pd.DataFrame(data=csv_results_for_author_commit, columns = labels_for_author_commit )\n",
    "    result_df_for_author_commit.to_csv ('../' + project + '_authors_individual_contribution.csv', sep=\",\", index=None)\n",
    "    print(result_df_for_author_commit.head(3))"
   ]
  },
  {
   "cell_type": "code",
   "execution_count": null,
   "metadata": {},
   "outputs": [],
   "source": []
  }
 ],
 "metadata": {
  "colab": {
   "collapsed_sections": [],
   "name": "GithubStatisticGeneration.ipynb",
   "provenance": []
  },
  "kernelspec": {
   "display_name": "Python 3",
   "language": "python",
   "name": "python3"
  },
  "language_info": {
   "codemirror_mode": {
    "name": "ipython",
    "version": 3
   },
   "file_extension": ".py",
   "mimetype": "text/x-python",
   "name": "python",
   "nbconvert_exporter": "python",
   "pygments_lexer": "ipython3",
   "version": "3.6.9"
  }
 },
 "nbformat": 4,
 "nbformat_minor": 1
}
